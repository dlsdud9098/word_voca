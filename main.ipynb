{
 "cells": [
  {
   "cell_type": "code",
   "execution_count": 27,
   "id": "ddcd6815",
   "metadata": {},
   "outputs": [],
   "source": [
    "import os\n",
    "import requests\n",
    "from bs4 import BeautifulSoup\n",
    "from datetime import datetime"
   ]
  },
  {
   "cell_type": "code",
   "execution_count": 28,
   "id": "b7e48d12",
   "metadata": {},
   "outputs": [],
   "source": [
    "obsidian_file_path = 'D:/ANKI/apic/'\n",
    "deck_name = 'deck1'\n",
    "save_path = './'\n",
    "file_path = '../word.txt'\n",
    "anki_media_path = 'C:/Users/seo/AppData/Roaming/Anki2/서인영/collection.media/'\n",
    "\n",
    "os.chdir(obsidian_file_path+deck_name)"
   ]
  },
  {
   "cell_type": "code",
   "execution_count": 41,
   "id": "9995a2e3",
   "metadata": {},
   "outputs": [
    {
     "name": "stdout",
     "output_type": "stream",
     "text": [
      "apple\n",
      "banana\n",
      "take\n",
      "bus\n",
      "train\n",
      "dog\n",
      "cat\n"
     ]
    }
   ],
   "source": [
    "# 영단어|뜻\n",
    "now = datetime.now()\n",
    "\n",
    "with open(file_path, 'r', encoding='utf-8') as f:\n",
    "    words = f.readlines()\n",
    "    \n",
    "voca = {}\n",
    "for word in words:\n",
    "    word = word.strip()\n",
    "    word = word.split('|')\n",
    "    voca[word[0]] = str(word[1:])[2:-2]\n",
    "    \n",
    "contents = []\n",
    "for front, back in voca.items():\n",
    "    print(front)\n",
    "    rq = requests.get(f'https://dict.naver.com/search.dict?dicQuery={front}&query={front}&target=dic&ie=utf8&query_utf=&isOnlyViewEE=')\n",
    "    soup = BeautifulSoup(rq.text, 'html.parser')\n",
    "                           #content > div:nth-child(1) > dl > dt:nth-child(1) > a:nth-child(5)\n",
    "    url = soup.select_one('#content > div > dl > dt > a:nth-child(5)')['playlist']\n",
    "\n",
    "    with open(f'{anki_media_path}{front}.mp3', \"wb\") as file:   # open in binary mode\n",
    "        response = requests.get(url)\n",
    "        file.write(response.content)\n",
    "    \n",
    "    content = f'''\n",
    "{back} \n",
    "[sound:{front}.mp3] #flashcard\n",
    "{front}\n",
    "\n",
    "'''.lstrip()\n",
    "    \n",
    "    contents.append(content)\n",
    "    \n",
    "contents = ''.join(contents)\n",
    "for name in voca.keys():\n",
    "    with open(f'./{now.year}{now.month}{now.day}{now.hour}{now.minute}{now.second}.md', 'w', encoding='utf-8') as f:\n",
    "        f.write(contents)"
   ]
  },
  {
   "cell_type": "code",
   "execution_count": 66,
   "id": "456edba0",
   "metadata": {},
   "outputs": [
    {
     "name": "stdout",
     "output_type": "stream",
     "text": [
      "Apple #flashcard\n",
      "사과\n",
      "\n",
      "Banana #flashcard\n",
      "바나나\n",
      "\n",
      "Take #flashcard\n",
      "줍다,가지다\n",
      "\n",
      "\n"
     ]
    }
   ],
   "source": [
    "# 영단어만\n",
    "now = datetime.now()\n",
    "\n",
    "with open(file_path, 'r', encoding='utf-8') as f:\n",
    "    words = f.readlines()\n",
    "    \n",
    "contents = []\n",
    "for word in words:\n",
    "    word = word.strip()\n",
    "    \n",
    "    \n",
    "    print(word)\n",
    "    rq = requests.get(f'https://dict.naver.com/search.dict?dicQuery={word}&query={word}&target=dic&ie=utf8&query_utf=&isOnlyViewEE=')\n",
    "    soup = BeautifulSoup(rq.text, 'html.parser')\n",
    "                           #content > div:nth-child(1) > dl > dt:nth-child(1) > a:nth-child(5)\n",
    "    url = soup.select_one('#content > div > dl > dt > a:nth-child(5)')['playlist']\n",
    "\n",
    "    with open(f'{anki_media_path}{word}.mp3', \"wb\") as file:   # open in binary mode\n",
    "        response = requests.get(url)\n",
    "        file.write(response.content)\n",
    "        \n",
    "    description = soup.select_one('#content > div > dl > dd:nth-child(2)').text.replace('\\t','').replace('\\n','').replace('  ',' ').replace('  ',' ').replace('  ','\\n').lstrip()\n",
    "    \n",
    "    audio = '[sound:'+word+'.mp3]'\n",
    "    content = f'''\n",
    "{word} \n",
    "[sound:{word}.mp3] #flashcard\n",
    "{description}\n",
    "\n",
    "'''.lstrip()\n",
    "    \n",
    "    contents.append(content)\n",
    "    \n",
    "contents = ''.join(contents)\n",
    "for name in voca.keys():\n",
    "    with open(f'./{now.year}{now.month}{now.day}{now.hour}{now.minute}{now.second}.md', 'w', encoding='utf-8') as f:\n",
    "        f.write(contents)"
   ]
  },
  {
   "cell_type": "code",
   "execution_count": 1,
   "id": "50abe05d",
   "metadata": {},
   "outputs": [
    {
     "name": "stdout",
     "output_type": "stream",
     "text": [
      "Collecting openapi\n",
      "  Downloading openapi-1.1.0.tar.gz (12 kB)\n",
      "Collecting inflection>=0.3.1\n",
      "  Downloading inflection-0.5.1-py2.py3-none-any.whl (9.5 kB)\n",
      "Requirement already satisfied: jsonschema>=2.6.0 in c:\\users\\seo\\appdata\\local\\programs\\python\\python38\\lib\\site-packages (from openapi) (4.17.3)\n",
      "Requirement already satisfied: importlib-resources>=1.4.0 in c:\\users\\seo\\appdata\\local\\programs\\python\\python38\\lib\\site-packages (from jsonschema>=2.6.0->openapi) (5.12.0)\n",
      "Requirement already satisfied: pyrsistent!=0.17.0,!=0.17.1,!=0.17.2,>=0.14.0 in c:\\users\\seo\\appdata\\local\\programs\\python\\python38\\lib\\site-packages (from jsonschema>=2.6.0->openapi) (0.19.3)\n",
      "Requirement already satisfied: attrs>=17.4.0 in c:\\users\\seo\\appdata\\local\\programs\\python\\python38\\lib\\site-packages (from jsonschema>=2.6.0->openapi) (23.1.0)\n",
      "Requirement already satisfied: pkgutil-resolve-name>=1.3.10 in c:\\users\\seo\\appdata\\local\\programs\\python\\python38\\lib\\site-packages (from jsonschema>=2.6.0->openapi) (1.3.10)\n",
      "Requirement already satisfied: zipp>=3.1.0 in c:\\users\\seo\\appdata\\local\\programs\\python\\python38\\lib\\site-packages (from importlib-resources>=1.4.0->jsonschema>=2.6.0->openapi) (3.15.0)\n",
      "Using legacy 'setup.py install' for openapi, since package 'wheel' is not installed.\n",
      "Installing collected packages: inflection, openapi\n",
      "    Running setup.py install for openapi: started\n",
      "    Running setup.py install for openapi: finished with status 'done'\n",
      "Successfully installed inflection-0.5.1 openapi-1.1.0\n"
     ]
    },
    {
     "name": "stderr",
     "output_type": "stream",
     "text": [
      "WARNING: You are using pip version 21.1.1; however, version 23.1.1 is available.\n",
      "You should consider upgrading via the 'c:\\users\\seo\\appdata\\local\\programs\\python\\python38\\python.exe -m pip install --upgrade pip' command.\n"
     ]
    }
   ],
   "source": [
    "import openapi\n",
    "\n",
    "openai.api_key = \"sk-8DD.....\" # API Key\n",
    "completion = openai.ChatCompletion.create(\n",
    "    model=\"gpt-3.5-turbo\",\n",
    "    messages=[{\"role\": \"user\", \"content\": \"Tell the world about the ChatGPT API in the style of a pirate.\"}]\n",
    ")\n",
    "\n",
    "print(completion)"
   ]
  },
  {
   "cell_type": "code",
   "execution_count": 5,
   "id": "e8227274",
   "metadata": {},
   "outputs": [],
   "source": [
    "with open(f'{anki_media_path}Apple.mp3', \"wb\") as file:   # open in binary mode\n",
    "    response = requests.get(url)\n",
    "    file.write(response.content)"
   ]
  },
  {
   "cell_type": "code",
   "execution_count": 33,
   "id": "50552fe8",
   "metadata": {},
   "outputs": [],
   "source": [
    "with open(file_path, 'r', encoding='utf-8') as f:\n",
    "    words = f.readlines()"
   ]
  },
  {
   "cell_type": "code",
   "execution_count": 34,
   "id": "46a65678",
   "metadata": {},
   "outputs": [
    {
     "name": "stdout",
     "output_type": "stream",
     "text": [
      "apple\n",
      "banana\n",
      "take\n",
      "bus\n",
      "train\n",
      "dog\n",
      "cat\n"
     ]
    }
   ],
   "source": [
    "for word in words:\n",
    "    print(word.rstrip())"
   ]
  },
  {
   "cell_type": "code",
   "execution_count": null,
   "id": "2a2bfc4c",
   "metadata": {},
   "outputs": [],
   "source": []
  }
 ],
 "metadata": {
  "kernelspec": {
   "display_name": "Python 3 (ipykernel)",
   "language": "python",
   "name": "python3"
  },
  "language_info": {
   "codemirror_mode": {
    "name": "ipython",
    "version": 3
   },
   "file_extension": ".py",
   "mimetype": "text/x-python",
   "name": "python",
   "nbconvert_exporter": "python",
   "pygments_lexer": "ipython3",
   "version": "3.8.10"
  }
 },
 "nbformat": 4,
 "nbformat_minor": 5
}
